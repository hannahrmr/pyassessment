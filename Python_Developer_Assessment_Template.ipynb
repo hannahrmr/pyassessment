{
  "nbformat": 4,
  "nbformat_minor": 0,
  "metadata": {
    "colab": {
      "provenance": [],
      "toc_visible": true
    },
    "kernelspec": {
      "name": "python3",
      "display_name": "Python 3"
    },
    "language_info": {
      "name": "python"
    }
  },
  "cells": [
    {
      "cell_type": "markdown",
      "source": [
        "![rmr-transparent-sml.png](https://www.rockymountainreserve.com/img/rmrlogo.7a77ade9.png)\n",
        "\n",
        "Welcome to the **Rocky Mountain Reserve** Junior Python Developer technical assessment, we appreciate your interest in joining our team.\n",
        "\n",
        "Please complete the exercises below to the best of your ability."
      ],
      "metadata": {
        "id": "-dqeo1DMI5sX"
      }
    },
    {
      "cell_type": "code",
      "source": [
        "# Import Dependencies\n",
        "import pandas as pd\n",
        "import datetime as dt"
      ],
      "metadata": {
        "id": "7T1QMtuurBKD"
      },
      "execution_count": null,
      "outputs": []
    },
    {
      "cell_type": "markdown",
      "source": [
        "### Complete the Code\n",
        "Replace all ___ with a value. Run the cell, if it results in an exception, attempt to resolve it."
      ],
      "metadata": {
        "id": "FUk9AIWHP9UV"
      }
    },
    {
      "cell_type": "code",
      "source": [
        "# Expected Output: 245\n",
        "\n",
        "class Building:\n",
        "    def __init__(self, ___):\n",
        "        ___.___ = ___\n",
        "\n",
        "b = Building(245)\n",
        "\n",
        "b.number"
      ],
      "metadata": {
        "id": "tySO9xvhP_eH",
        "colab": {
          "base_uri": "https://localhost:8080/"
        },
        "outputId": "ed163d25-27e4-4387-a053-a845aa8212bf"
      },
      "execution_count": null,
      "outputs": [
        {
          "output_type": "execute_result",
          "data": {
            "text/plain": [
              "245"
            ]
          },
          "metadata": {},
          "execution_count": 11
        }
      ]
    },
    {
      "cell_type": "code",
      "source": [
        "# Expected Output: 'p'\n",
        "\n",
        "w = 'python'\n",
        "\n",
        "w_iterator = iter(w)\n",
        "\n",
        "___(w_iterator)"
      ],
      "metadata": {
        "id": "IDY53RenQDMT"
      },
      "execution_count": null,
      "outputs": []
    },
    {
      "cell_type": "code",
      "source": [
        "# Expected Output: 153\n",
        "\n",
        "def add_many(___):\n",
        "    s = 0\n",
        "    for n in ___:\n",
        "        s += n\n",
        "    print(s)\n",
        "\n",
        "add_many(100, 50, 3)"
      ],
      "metadata": {
        "id": "dE0R3V26QSJW"
      },
      "execution_count": null,
      "outputs": []
    },
    {
      "cell_type": "code",
      "source": [
        "# Expected Output: 'Natural entity in the observable universe.'\n",
        "\n",
        "class Astro:\n",
        "    description = 'Natural entity in the observable universe.'\n",
        "\n",
        "class ___(___):\n",
        "    pass\n",
        "\n",
        "sun = ___()\n",
        "\n",
        "sun.description"
      ],
      "metadata": {
        "id": "rXDGYCa-RbnD"
      },
      "execution_count": null,
      "outputs": []
    },
    {
      "cell_type": "code",
      "source": [
        "# Expected Output: 9\n",
        "\n",
        "f = lambda ___: ___\n",
        "\n",
        "f(3,3)"
      ],
      "metadata": {
        "id": "_MK_ym7-R8DS"
      },
      "execution_count": null,
      "outputs": []
    },
    {
      "cell_type": "code",
      "source": [
        "# Expected Output: {1, 2, 3}\n",
        "\n",
        "x = (1, 2, 3)\n",
        "s = ___(x)\n",
        "\n",
        "s"
      ],
      "metadata": {
        "id": "tZUUeY1vSGjZ"
      },
      "execution_count": null,
      "outputs": []
    },
    {
      "cell_type": "code",
      "source": [
        "# Expected Output: {3}\n",
        "\n",
        "a = {1, 2, 3}\n",
        "b = {3, 4, 5, 6}\n",
        "\n",
        "a ___ b"
      ],
      "metadata": {
        "id": "htmR-hmWSOV5"
      },
      "execution_count": null,
      "outputs": []
    },
    {
      "cell_type": "code",
      "source": [
        "# Apply a decorator to the adder() function, multiplying its result by 2.\n",
        "# Similarly, apply a decorator to the subtract() function, multiplying its result by 3.\n",
        "\n",
        "def multiply(by = None):\n",
        "\tdef multiply_real_decorator(function):\n",
        "\t\tdef wrapper(*args,**kwargs):\n",
        "\t\t\treturn by * function(*args,**kwargs)\n",
        "\t\treturn wrapper\n",
        "\treturn multiply_real_decorator\n",
        "\n",
        "___\n",
        "def adder(a,b):\n",
        "  return a + b\n",
        "\n",
        "___\n",
        "def subtractor(a,b):\n",
        "  return a - b\n",
        "\n",
        "# Expected Output: 10\n",
        "print(adder(2,3))\n",
        "\n",
        "# Expected Output: -3\n",
        "print(subtractor(2,3))"
      ],
      "metadata": {
        "id": "eapKOqpgSU_o"
      },
      "execution_count": null,
      "outputs": []
    },
    {
      "cell_type": "markdown",
      "source": [
        "### Write Your Own\n",
        "Write a function that meets the given requirements and confirm that it produces the given output when given the example paramaters."
      ],
      "metadata": {
        "id": "6ZW9aVmfQZS5"
      }
    },
    {
      "cell_type": "code",
      "source": [
        "# Problem 0:\n",
        "#   Print the current date and time as a timestamp.\n",
        "\n",
        "#  your code here ..."
      ],
      "metadata": {
        "id": "-i1TzhjmY8Dx"
      },
      "execution_count": null,
      "outputs": []
    },
    {
      "cell_type": "code",
      "source": [
        "# Problem A:\n",
        "#   Write a function that determines if a word is a palindrome (a word that can be spelled the same forwards and backwards).\n",
        "#   Example paramater: Racecar\n",
        "#   Expected Output: True\n",
        "\n",
        "#  your code here ..."
      ],
      "metadata": {
        "id": "L0YP3Ll0QZvg"
      },
      "execution_count": null,
      "outputs": []
    },
    {
      "cell_type": "code",
      "source": [
        "# Problem B:\n",
        "#   Write a list comrehension to produce the expected output from the given variable.\n",
        "#   Expected Output: ['HELLO', 'WORLD']\n",
        "\n",
        "words = ['hello','world']\n",
        "\n",
        "#  your code here ..."
      ],
      "metadata": {
        "id": "rvUfelA-Qryg"
      },
      "execution_count": null,
      "outputs": []
    },
    {
      "cell_type": "code",
      "source": [
        "# Problem C:\n",
        "#   Write a dictionary comrehension to produce the expected output.\n",
        "#   Expected Output: {0: 0, 1: 10, 2: 20, 3: 30, 4: 40}\n",
        "\n",
        "#  your code here ..."
      ],
      "metadata": {
        "id": "z31b6TGqQ5iU"
      },
      "execution_count": null,
      "outputs": []
    },
    {
      "cell_type": "code",
      "source": [
        "# Problem D:\n",
        "#   Write a function to produce the expected output from the given variable.\n",
        "#   Expected Output\n",
        "#   h\n",
        "#   e\n",
        "#   o\n",
        "\n",
        "greeting = 'hello'\n",
        "\n",
        "#  your code here ..."
      ],
      "metadata": {
        "id": "ZSRE9NkqTakY"
      },
      "execution_count": null,
      "outputs": []
    },
    {
      "cell_type": "markdown",
      "source": [
        "### Pandas Library\n",
        "Data analysis tasks."
      ],
      "metadata": {
        "id": "8WkSleZGUf2V"
      }
    },
    {
      "cell_type": "code",
      "source": [
        "# This variable will persist for the remainder of the notebook once run\n",
        "\n",
        "movie_data = [{'Film': '27 Dresses', 'Genre': 'Comedy', 'Lead Studio': 'Fox', 'Audience  score %': 71.0, 'Profitability': 5.3436218, 'Rotten Tomatoes %': 40.0, 'Worldwide Gross': 160.308654, 'Year': 2008}, {'Film': '(500) Days of Summer', 'Genre': 'Comedy', 'Lead Studio': 'Fox', 'Audience  score %': 81.0, 'Profitability': 8.096, 'Rotten Tomatoes %': 87.0, 'Worldwide Gross': 60.72, 'Year': 2009}, {'Film': 'A Dangerous Method', 'Genre': 'Drama', 'Lead Studio': 'Independent', 'Audience  score %': 89.0, 'Profitability': 0.44864475, 'Rotten Tomatoes %': 79.0, 'Worldwide Gross': 8.972895, 'Year': 2011}, {'Film': 'A Serious Man', 'Genre': 'Drama', 'Lead Studio': 'Universal', 'Audience  score %': 64.0, 'Profitability': 4.382857143, 'Rotten Tomatoes %': 89.0, 'Worldwide Gross': 30.68, 'Year': 2009}, {'Film': 'Across the Universe', 'Genre': 'Romance', 'Lead Studio': 'Independent', 'Audience  score %': 84.0, 'Profitability': 0.652603178, 'Rotten Tomatoes %': 54.0, 'Worldwide Gross': 29.367143, 'Year': 2007}, {'Film': 'Beginners', 'Genre': 'Comedy', 'Lead Studio': 'Independent', 'Audience  score %': 80.0, 'Profitability': 4.471875, 'Rotten Tomatoes %': 84.0, 'Worldwide Gross': 14.31, 'Year': 2011}, {'Film': 'Dear John', 'Genre': 'Drama', 'Lead Studio': 'Sony', 'Audience  score %': 66.0, 'Profitability': 4.5988, 'Rotten Tomatoes %': 29.0, 'Worldwide Gross': 114.97, 'Year': 2010}, {'Film': 'Enchanted', 'Genre': 'Comedy', 'Lead Studio': 'Disney', 'Audience  score %': 80.0, 'Profitability': 4.005737082, 'Rotten Tomatoes %': 93.0, 'Worldwide Gross': 340.487652, 'Year': 2007}, {'Film': 'Fireproof', 'Genre': 'Drama', 'Lead Studio': 'Independent', 'Audience  score %': 51.0, 'Profitability': 66.934, 'Rotten Tomatoes %': 40.0, 'Worldwide Gross': 33.467, 'Year': 2008}, {'Film': 'Four Christmases', 'Genre': 'Comedy', 'Lead Studio': 'Warner Bros.', 'Audience  score %': 52.0, 'Profitability': 2.022925, 'Rotten Tomatoes %': 26.0, 'Worldwide Gross': 161.834, 'Year': 2008}, {'Film': 'Ghosts of Girlfriends Past', 'Genre': 'Comedy', 'Lead Studio': 'Warner Bros.', 'Audience  score %': 47.0, 'Profitability': 2.0444, 'Rotten Tomatoes %': 27.0, 'Worldwide Gross': 102.22, 'Year': 2009}, {'Film': 'Gnomeo and Juliet', 'Genre': 'Animation', 'Lead Studio': 'Disney', 'Audience  score %': 52.0, 'Profitability': 5.387972222, 'Rotten Tomatoes %': 56.0, 'Worldwide Gross': 193.967, 'Year': 2011}, {'Film': 'Going the Distance', 'Genre': 'Comedy', 'Lead Studio': 'Warner Bros.', 'Audience  score %': 56.0, 'Profitability': 1.3140625, 'Rotten Tomatoes %': 53.0, 'Worldwide Gross': 42.05, 'Year': 2010}, {'Film': 'Good Luck Chuck', 'Genre': 'Comedy', 'Lead Studio': 'Lionsgate', 'Audience  score %': 61.0, 'Profitability': 2.36768512, 'Rotten Tomatoes %': 3.0, 'Worldwide Gross': 59.192128, 'Year': 2007}, {'Film': \"He's Just Not That Into You\", 'Genre': 'Comedy', 'Lead Studio': 'Warner Bros.', 'Audience  score %': 60.0, 'Profitability': 7.1536, 'Rotten Tomatoes %': 42.0, 'Worldwide Gross': 178.84, 'Year': 2009}, {'Film': 'High School Musical 3: Senior Year', 'Genre': 'Comedy', 'Lead Studio': 'Disney', 'Audience  score %': 76.0, 'Profitability': 22.91313646, 'Rotten Tomatoes %': 65.0, 'Worldwide Gross': 252.044501, 'Year': 2008}, {'Film': 'I Love You Phillip Morris', 'Genre': 'Comedy', 'Lead Studio': 'Independent', 'Audience  score %': 57.0, 'Profitability': 1.34, 'Rotten Tomatoes %': 71.0, 'Worldwide Gross': 20.1, 'Year': 2010}, {'Film': \"It's Complicated\", 'Genre': 'Comedy', 'Lead Studio': 'Universal', 'Audience  score %': 63.0, 'Profitability': 2.642352941, 'Rotten Tomatoes %': 56.0, 'Worldwide Gross': 224.6, 'Year': 2009}, {'Film': 'Jane Eyre', 'Genre': 'Romance', 'Lead Studio': 'Universal', 'Audience  score %': 77.0, 'Profitability': pd.NA, 'Rotten Tomatoes %': 85.0, 'Worldwide Gross': 30.147, 'Year': 2011}, {'Film': 'Just Wright', 'Genre': 'Comedy', 'Lead Studio': 'Fox', 'Audience  score %': 58.0, 'Profitability': 1.797416667, 'Rotten Tomatoes %': 45.0, 'Worldwide Gross': 21.569, 'Year': 2010}, {'Film': 'Killers', 'Genre': 'Action', 'Lead Studio': 'Lionsgate', 'Audience  score %': 45.0, 'Profitability': 1.245333333, 'Rotten Tomatoes %': 11.0, 'Worldwide Gross': 93.4, 'Year': 2010}, {'Film': 'Knocked Up', 'Genre': 'Comedy', 'Lead Studio': 'Universal', 'Audience  score %': 83.0, 'Profitability': 6.636401848, 'Rotten Tomatoes %': 91.0, 'Worldwide Gross': 219.001261, 'Year': 2007}, {'Film': 'Leap Year', 'Genre': 'Comedy', 'Lead Studio': 'Universal', 'Audience  score %': 49.0, 'Profitability': 1.715263158, 'Rotten Tomatoes %': 21.0, 'Worldwide Gross': 32.59, 'Year': 2010}, {'Film': 'Letters to Juliet', 'Genre': 'Comedy', 'Lead Studio': 'Summit', 'Audience  score %': 62.0, 'Profitability': 2.639333333, 'Rotten Tomatoes %': 40.0, 'Worldwide Gross': 79.18, 'Year': 2010}, {'Film': 'License to Wed', 'Genre': 'Comedy', 'Lead Studio': 'Warner Bros.', 'Audience  score %': 55.0, 'Profitability': 1.9802064, 'Rotten Tomatoes %': 8.0, 'Worldwide Gross': 69.307224, 'Year': 2007}, {'Film': 'Life as We Know It', 'Genre': 'Comedy', 'Lead Studio': 'Independent', 'Audience  score %': 62.0, 'Profitability': 2.530526316, 'Rotten Tomatoes %': 28.0, 'Worldwide Gross': 96.16, 'Year': 2010}, {'Film': 'Love & Other Drugs', 'Genre': 'Comedy', 'Lead Studio': 'Fox', 'Audience  score %': 55.0, 'Profitability': 1.817666667, 'Rotten Tomatoes %': 48.0, 'Worldwide Gross': 54.53, 'Year': 2010}, {'Film': 'Love Happens', 'Genre': 'Drama', 'Lead Studio': 'Universal', 'Audience  score %': 40.0, 'Profitability': 2.004444444, 'Rotten Tomatoes %': 18.0, 'Worldwide Gross': 36.08, 'Year': 2009}, {'Film': 'Made of Honor', 'Genre': 'Comedy', 'Lead Studio': 'Sony', 'Audience  score %': 61.0, 'Profitability': 2.64906835, 'Rotten Tomatoes %': 13.0, 'Worldwide Gross': 105.962734, 'Year': 2008}, {'Film': 'Mamma Mia!', 'Genre': 'Comedy', 'Lead Studio': 'Universal', 'Audience  score %': 76.0, 'Profitability': 9.234453864, 'Rotten Tomatoes %': 53.0, 'Worldwide Gross': 609.473955, 'Year': 2008}, {'Film': 'Marley and Me', 'Genre': 'Comedy', 'Lead Studio': 'Fox', 'Audience  score %': 77.0, 'Profitability': 3.746781818, 'Rotten Tomatoes %': 63.0, 'Worldwide Gross': 206.073, 'Year': 2008}, {'Film': 'Midnight in Paris', 'Genre': 'Romance', 'Lead Studio': 'Sony', 'Audience  score %': 84.0, 'Profitability': 8.744705882, 'Rotten Tomatoes %': 93.0, 'Worldwide Gross': 148.66, 'Year': 2011}, {'Film': 'Miss Pettigrew Lives for a Day', 'Genre': 'Comedy', 'Lead Studio': 'Independent', 'Audience  score %': 70.0, 'Profitability': 0.2528949, 'Rotten Tomatoes %': 78.0, 'Worldwide Gross': 15.173694, 'Year': 2008}, {'Film': 'Monte Carlo', 'Genre': 'Romance', 'Lead Studio': '20th Century Fox', 'Audience  score %': 50.0, 'Profitability': 1.9832, 'Rotten Tomatoes %': 38.0, 'Worldwide Gross': 39.664, 'Year': 2011}, {'Film': 'Music and Lyrics', 'Genre': 'Romance', 'Lead Studio': 'Warner Bros.', 'Audience  score %': 70.0, 'Profitability': 3.64741055, 'Rotten Tomatoes %': 63.0, 'Worldwide Gross': 145.896422, 'Year': 2007}, {'Film': 'My Week with Marilyn', 'Genre': 'Drama', 'Lead Studio': 'The Weinstein Company', 'Audience  score %': 84.0, 'Profitability': 0.8258, 'Rotten Tomatoes %': 83.0, 'Worldwide Gross': 8.258, 'Year': 2011}, {'Film': \"New Year's Eve\", 'Genre': 'Romance', 'Lead Studio': 'Warner Bros.', 'Audience  score %': 48.0, 'Profitability': 2.536428571, 'Rotten Tomatoes %': 8.0, 'Worldwide Gross': 142.04, 'Year': 2011}, {'Film': \"Nick and Norah's Infinite Playlist\", 'Genre': 'Comedy', 'Lead Studio': 'Sony', 'Audience  score %': 67.0, 'Profitability': 3.3527293, 'Rotten Tomatoes %': 73.0, 'Worldwide Gross': 33.527293, 'Year': 2008}, {'Film': 'No Reservations', 'Genre': 'Comedy', 'Lead Studio': pd.NA, 'Audience  score %': 64.0, 'Profitability': 3.307180357, 'Rotten Tomatoes %': 39.0, 'Worldwide Gross': 92.60105, 'Year': 2007}, {'Film': 'Not Easily Broken', 'Genre': 'Drama', 'Lead Studio': 'Independent', 'Audience  score %': 66.0, 'Profitability': 2.14, 'Rotten Tomatoes %': 34.0, 'Worldwide Gross': 10.7, 'Year': 2009}, {'Film': 'One Day', 'Genre': 'Romance', 'Lead Studio': 'Independent', 'Audience  score %': 54.0, 'Profitability': 3.682733333, 'Rotten Tomatoes %': 37.0, 'Worldwide Gross': 55.241, 'Year': 2011}, {'Film': 'Our Family Wedding', 'Genre': 'Comedy', 'Lead Studio': 'Independent', 'Audience  score %': 49.0, 'Profitability': pd.NA, 'Rotten Tomatoes %': 14.0, 'Worldwide Gross': 21.37, 'Year': 2010}, {'Film': 'Over Her Dead Body', 'Genre': 'Comedy', 'Lead Studio': 'New Line', 'Audience  score %': 47.0, 'Profitability': 2.071, 'Rotten Tomatoes %': 15.0, 'Worldwide Gross': 20.71, 'Year': 2008}, {'Film': 'P.S. I Love You', 'Genre': 'Romance', 'Lead Studio': 'Independent', 'Audience  score %': 82.0, 'Profitability': 5.103116833, 'Rotten Tomatoes %': 21.0, 'Worldwide Gross': 153.093505, 'Year': 2007}, {'Film': 'Penelope', 'Genre': 'Comedy', 'Lead Studio': 'Summit', 'Audience  score %': 74.0, 'Profitability': 1.382799733, 'Rotten Tomatoes %': 52.0, 'Worldwide Gross': 20.741996, 'Year': 2008}, {'Film': 'Rachel Getting Married', 'Genre': 'Drama', 'Lead Studio': 'Independent', 'Audience  score %': 61.0, 'Profitability': 1.384166667, 'Rotten Tomatoes %': 85.0, 'Worldwide Gross': 16.61, 'Year': 2008}, {'Film': 'Remember Me', 'Genre': 'Drama', 'Lead Studio': 'Summit', 'Audience  score %': 70.0, 'Profitability': 3.49125, 'Rotten Tomatoes %': 28.0, 'Worldwide Gross': 55.86, 'Year': 2010}, {'Film': 'Sex and the City', 'Genre': 'Comedy', 'Lead Studio': 'Warner Bros.', 'Audience  score %': 81.0, 'Profitability': 7.221795791, 'Rotten Tomatoes %': 49.0, 'Worldwide Gross': 415.253258, 'Year': 2008}, {'Film': 'Sex and the City 2', 'Genre': 'Comedy', 'Lead Studio': 'Warner Bros.', 'Audience  score %': 49.0, 'Profitability': 2.8835, 'Rotten Tomatoes %': 15.0, 'Worldwide Gross': 288.35, 'Year': 2010}, {'Film': \"She's Out of My League\", 'Genre': 'Comedy', 'Lead Studio': 'Paramount', 'Audience  score %': 60.0, 'Profitability': 2.4405, 'Rotten Tomatoes %': 57.0, 'Worldwide Gross': 48.81, 'Year': 2010}, {'Film': 'Something Borrowed', 'Genre': 'Romance', 'Lead Studio': 'Independent', 'Audience  score %': pd.NA, 'Profitability': 1.719514286, 'Rotten Tomatoes %': pd.NA, 'Worldwide Gross': 60.183, 'Year': 2011}, {'Film': 'Tangled', 'Genre': 'Animation', 'Lead Studio': 'Disney', 'Audience  score %': 88.0, 'Profitability': 1.365692308, 'Rotten Tomatoes %': 89.0, 'Worldwide Gross': 355.08, 'Year': 2010}, {'Film': 'The Back-up Plan', 'Genre': 'Comedy', 'Lead Studio': 'CBS', 'Audience  score %': 47.0, 'Profitability': 2.202571429, 'Rotten Tomatoes %': 20.0, 'Worldwide Gross': 77.09, 'Year': 2010}, {'Film': 'The Curious Case of Benjamin Button', 'Genre': 'Fantasy', 'Lead Studio': 'Warner Bros.', 'Audience  score %': 81.0, 'Profitability': 1.78394375, 'Rotten Tomatoes %': 73.0, 'Worldwide Gross': 285.431, 'Year': 2008}, {'Film': 'The Duchess', 'Genre': 'Drama', 'Lead Studio': 'Paramount', 'Audience  score %': 68.0, 'Profitability': 3.207850222, 'Rotten Tomatoes %': 60.0, 'Worldwide Gross': 43.305978, 'Year': 2008}, {'Film': 'The Heartbreak Kid', 'Genre': 'Comedy', 'Lead Studio': 'Paramount', 'Audience  score %': 41.0, 'Profitability': 2.129444167, 'Rotten Tomatoes %': 30.0, 'Worldwide Gross': 127.76665, 'Year': 2007}, {'Film': 'The Invention of Lying', 'Genre': 'Comedy', 'Lead Studio': 'Warner Bros.', 'Audience  score %': 47.0, 'Profitability': 1.751351351, 'Rotten Tomatoes %': 56.0, 'Worldwide Gross': 32.4, 'Year': 2009}, {'Film': 'The Proposal', 'Genre': 'Comedy', 'Lead Studio': 'Disney', 'Audience  score %': 74.0, 'Profitability': 7.8675, 'Rotten Tomatoes %': 43.0, 'Worldwide Gross': 314.7, 'Year': 2009}, {'Film': \"The Time Traveler's Wife\", 'Genre': 'Drama', 'Lead Studio': 'Paramount', 'Audience  score %': 65.0, 'Profitability': 2.598205128, 'Rotten Tomatoes %': 38.0, 'Worldwide Gross': 101.33, 'Year': 2009}, {'Film': 'The Twilight Saga: New Moon', 'Genre': 'Drama', 'Lead Studio': 'Summit', 'Audience  score %': 78.0, 'Profitability': 14.1964, 'Rotten Tomatoes %': 27.0, 'Worldwide Gross': 709.82, 'Year': 2009}, {'Film': 'The Ugly Truth', 'Genre': 'Comedy', 'Lead Studio': 'Independent', 'Audience  score %': 68.0, 'Profitability': 5.402631579, 'Rotten Tomatoes %': 14.0, 'Worldwide Gross': 205.3, 'Year': 2009}, {'Film': 'Twilight', 'Genre': 'Romance', 'Lead Studio': 'Summit', 'Audience  score %': 82.0, 'Profitability': 10.18002703, 'Rotten Tomatoes %': 49.0, 'Worldwide Gross': 376.661, 'Year': 2008}, {'Film': 'Twilight: Breaking Dawn', 'Genre': 'Romance', 'Lead Studio': 'Independent', 'Audience  score %': 68.0, 'Profitability': 6.383363636, 'Rotten Tomatoes %': 26.0, 'Worldwide Gross': 702.17, 'Year': 2011}, {'Film': \"Tyler Perry's Why Did I get Married\", 'Genre': 'Romance', 'Lead Studio': 'Independent', 'Audience  score %': 47.0, 'Profitability': 3.7241924, 'Rotten Tomatoes %': 46.0, 'Worldwide Gross': 55.862886, 'Year': 2007}, {'Film': \"Valentine's Day\", 'Genre': 'Comedy', 'Lead Studio': 'Warner Bros.', 'Audience  score %': 54.0, 'Profitability': 4.184038462, 'Rotten Tomatoes %': 17.0, 'Worldwide Gross': 217.57, 'Year': 2010}, {'Film': 'Waiting For Forever', 'Genre': 'Romance', 'Lead Studio': 'Independent', 'Audience  score %': 53.0, 'Profitability': 0.005, 'Rotten Tomatoes %': 6.0, 'Worldwide Gross': 0.025, 'Year': 2011}, {'Film': 'Waitress', 'Genre': 'Romance', 'Lead Studio': 'Independent', 'Audience  score %': 67.0, 'Profitability': 11.0897415, 'Rotten Tomatoes %': 89.0, 'Worldwide Gross': 22.179483, 'Year': 2007}, {'Film': 'WALL-E', 'Genre': 'Animation', 'Lead Studio': 'Disney', 'Audience  score %': 89.0, 'Profitability': 2.896019067, 'Rotten Tomatoes %': 96.0, 'Worldwide Gross': 521.283432, 'Year': 2008}, {'Film': 'Water For Elephants', 'Genre': 'Drama', 'Lead Studio': '20th Century Fox', 'Audience  score %': 72.0, 'Profitability': 3.081421053, 'Rotten Tomatoes %': 60.0, 'Worldwide Gross': 117.094, 'Year': 2011}, {'Film': 'What Happens in Vegas', 'Genre': 'Comedy', 'Lead Studio': 'Fox', 'Audience  score %': 72.0, 'Profitability': 6.267647029, 'Rotten Tomatoes %': 28.0, 'Worldwide Gross': 219.367646, 'Year': 2008}, {'Film': 'When in Rome', 'Genre': 'Comedy', 'Lead Studio': 'Disney', 'Audience  score %': 44.0, 'Profitability': pd.NA, 'Rotten Tomatoes %': 15.0, 'Worldwide Gross': 43.04, 'Year': 2010}, {'Film': 'You Will Meet a Tall Dark Stranger', 'Genre': 'Comedy', 'Lead Studio': 'Independent', 'Audience  score %': 35.0, 'Profitability': 1.211818182, 'Rotten Tomatoes %': 43.0, 'Worldwide Gross': 26.66, 'Year': 2010}, {'Film': 'Youth in Revolt', 'Genre': 'Comedy', 'Lead Studio': 'The Weinstein Company', 'Audience  score %': 52.0, 'Profitability': 1.09, 'Rotten Tomatoes %': 68.0, 'Worldwide Gross': 19.62, 'Year': 2010}, {'Film': 'Zack and Miri Make a Porno', 'Genre': 'Romance', 'Lead Studio': 'The Weinstein Company', 'Audience  score %': 70.0, 'Profitability': 1.747541667, 'Rotten Tomatoes %': 64.0, 'Worldwide Gross': 41.941, 'Year': 2008}]"
      ],
      "metadata": {
        "id": "sfN4Y5QaV2mo"
      },
      "execution_count": null,
      "outputs": []
    },
    {
      "cell_type": "code",
      "source": [
        "# Problem E:\n",
        "#   Create a dataframe from the movie_data list of dictionaries. Sort them alphabetically by name.\n",
        "\n",
        "#  your code here ..."
      ],
      "metadata": {
        "id": "n8SYw78BUdXr"
      },
      "execution_count": null,
      "outputs": []
    },
    {
      "cell_type": "code",
      "source": [
        "# Problem F:\n",
        "#   Display the row with the highest 'Worldwide Gross' profit.\n",
        "\n",
        "#  your code here ..."
      ],
      "metadata": {
        "id": "NZndld42XSQt"
      },
      "execution_count": null,
      "outputs": []
    },
    {
      "cell_type": "code",
      "source": [
        "# Problem G:\n",
        "#   Group movies by year and display the group with the lowest count of movies.\n",
        "\n",
        "#  your code here ..."
      ],
      "metadata": {
        "id": "6C9AppMcYWfP"
      },
      "execution_count": null,
      "outputs": []
    },
    {
      "cell_type": "code",
      "source": [
        "# Problem H:\n",
        "#   Print the name of the genre with the highest maximum Rotten Tomatoes %\n",
        "\n",
        "#  your code here ..."
      ],
      "metadata": {
        "id": "LyByExiaasm3"
      },
      "execution_count": null,
      "outputs": []
    },
    {
      "cell_type": "code",
      "source": [
        "# Problem I:\n",
        "#   Print the name of the genre that grossed the highest worldwide in the year 2010\n",
        "\n",
        "#  your code here ..."
      ],
      "metadata": {
        "id": "PyJUO2m5a72G"
      },
      "execution_count": null,
      "outputs": []
    },
    {
      "cell_type": "code",
      "source": [
        "# Problem J:\n",
        "#   Print the name of the studio that produced the majority of films present in this dataset.\n",
        "\n",
        "#  your code here ..."
      ],
      "metadata": {
        "id": "dY7syvfucDUy"
      },
      "execution_count": null,
      "outputs": []
    },
    {
      "cell_type": "code",
      "source": [
        "# Problem K:\n",
        "#   There was a mistake in the data and all rows with Genre \"Drama\" need to be replaced with \"Action\".\n",
        "#   Make this alteration and display the head of a frame of all \"Action\" movies.\n",
        "\n",
        "#  your code here ..."
      ],
      "metadata": {
        "id": "0_nzi5-Zcmbe"
      },
      "execution_count": null,
      "outputs": []
    }
  ]
}